{
 "cells": [
  {
   "cell_type": "code",
   "execution_count": 28,
   "metadata": {},
   "outputs": [
    {
     "data": {
      "text/plain": [
       "'/u/abhi24/matlaber4/dp_challenge/mikhail'"
      ]
     },
     "execution_count": 28,
     "metadata": {},
     "output_type": "execute_result"
    }
   ],
   "source": [
    "import os\n",
    "import sys\n",
    "sys.path.append('./Notebooks')\n",
    "os.getcwd()"
   ]
  },
  {
   "cell_type": "code",
   "execution_count": 29,
   "metadata": {},
   "outputs": [],
   "source": [
    "import pandas as pd\n",
    "import RON_Logistic\n",
    "import Epsilon_Logistic"
   ]
  },
  {
   "cell_type": "code",
   "execution_count": 30,
   "metadata": {},
   "outputs": [],
   "source": [
    "perf_matrix = pd.read_csv('./Notebooks/categorical_ron_gauss.csv')\n",
    "categorical_algos = [RON_Logistic.RON_Logistic(), Epsilon_Logistic.Epsilon_Logistic()]\n",
    "target = 'HISPAN'"
   ]
  },
  {
   "cell_type": "code",
   "execution_count": 31,
   "metadata": {},
   "outputs": [],
   "source": [
    "class ModelSelector:\n",
    "    def __init__(self):\n",
    "        self.model = None\n",
    "        pass\n",
    "    \n",
    "    def select(self, algos, target, perf_matrix):\n",
    "        model_row = perf_matrix.index[perf_matrix[target] == perf_matrix[target].max()].to_list()\n",
    "        self.model = algos[model_row[0]]\n",
    "        return self.model"
   ]
  },
  {
   "cell_type": "code",
   "execution_count": 32,
   "metadata": {},
   "outputs": [
    {
     "data": {
      "text/plain": [
       "<RON_Logistic.RON_Logistic at 0x7f6f785ecdc0>"
      ]
     },
     "execution_count": 32,
     "metadata": {},
     "output_type": "execute_result"
    }
   ],
   "source": [
    "model_selector = ModelSelector()\n",
    "categorical_algo = model_selector.select(algos=categorical_algos, target=target, perf_matrix=perf_matrix)\n",
    "categorical_algo"
   ]
  },
  {
   "cell_type": "code",
   "execution_count": null,
   "metadata": {},
   "outputs": [],
   "source": []
  }
 ],
 "metadata": {
  "kernelspec": {
   "display_name": "Python 3",
   "language": "python",
   "name": "python3"
  },
  "language_info": {
   "codemirror_mode": {
    "name": "ipython",
    "version": 3
   },
   "file_extension": ".py",
   "mimetype": "text/x-python",
   "name": "python",
   "nbconvert_exporter": "python",
   "pygments_lexer": "ipython3",
   "version": "3.8.5"
  }
 },
 "nbformat": 4,
 "nbformat_minor": 4
}
