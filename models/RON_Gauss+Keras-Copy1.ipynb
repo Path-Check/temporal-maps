{
 "cells": [
  {
   "cell_type": "code",
   "execution_count": 33,
   "metadata": {},
   "outputs": [],
   "source": [
    "import pandas as pd\n",
    "import numpy as np\n",
    "import scipy.misc\n",
    "from sklearn.model_selection import train_test_split\n",
    "import seaborn as sns\n",
    "import time\n",
    "import tensorflow as tf\n",
    "import ron_gauss"
   ]
  },
  {
   "cell_type": "code",
   "execution_count": 34,
   "metadata": {},
   "outputs": [],
   "source": [
    "df = pd.read_csv('ground_truth_new.csv')"
   ]
  },
  {
   "cell_type": "code",
   "execution_count": null,
   "metadata": {},
   "outputs": [],
   "source": [
    "len(df)"
   ]
  },
  {
   "cell_type": "code",
   "execution_count": 35,
   "metadata": {},
   "outputs": [
    {
     "data": {
      "text/plain": [
       "Index(['taxi_id', 'shift', 'company_id', 'pickup_community_area',\n",
       "       'dropoff_community_area', 'payment_type', 'trip_day_of_week',\n",
       "       'trip_hour_of_day', 'fare', 'tips', 'trip_total', 'trip_seconds',\n",
       "       'trip_miles'],\n",
       "      dtype='object')"
      ]
     },
     "execution_count": 35,
     "metadata": {},
     "output_type": "execute_result"
    }
   ],
   "source": [
    "df.columns"
   ]
  },
  {
   "cell_type": "code",
   "execution_count": 36,
   "metadata": {},
   "outputs": [
    {
     "name": "stdout",
     "output_type": "stream",
     "text": [
      "['trip_hour_of_day', 'fare', 'tips', 'trip_total', 'trip_seconds', 'trip_miles']\n"
     ]
    }
   ],
   "source": [
    "drop = ['taxi_id', 'company_id']\n",
    "categorical = [\"trip_day_of_week\", \"payment_type\", \"dropoff_community_area\", \"pickup_community_area\", \"shift\"]\n",
    "continuous = [x for x in df.columns if x not in (categorical + drop)]\n",
    "print(continuous)"
   ]
  },
  {
   "cell_type": "code",
   "execution_count": 46,
   "metadata": {},
   "outputs": [],
   "source": [
    "def supervised_rongauss(df, dim, target):\n",
    "    target_y = df[target].to_numpy()\n",
    "    df = df.drop(columns=[target])\n",
    "\n",
    "    y_max = target_y.max()\n",
    "    df = df.to_numpy()\n",
    "    rongauss_unsup = ron_gauss.RONGauss(algorithm='supervised')\n",
    "    dp_x, dp_y = rongauss_unsup.generate_dpdata(df, dim, target_y, y_max)\n",
    "    return dp_x, dp_y"
   ]
  },
  {
   "cell_type": "code",
   "execution_count": 47,
   "metadata": {},
   "outputs": [],
   "source": [
    "def warn(*args, **kwargs):\n",
    "    pass\n",
    "import warnings\n",
    "warnings.warn = warn"
   ]
  },
  {
   "cell_type": "code",
   "execution_count": 49,
   "metadata": {},
   "outputs": [],
   "source": [
    "from sklearn.metrics import mean_squared_error\n",
    "from keras.models import Sequential\n",
    "from keras.layers import Dense\n",
    "from keras.layers import Dropout\n",
    "\n",
    "def baseline_model():\n",
    "    model = Sequential()\n",
    "    model.add(Dense(33, input_dim=12, activation='relu'))\n",
    "    model.add(Dense(33, activation='relu'))\n",
    "    model.add(Dense(1, activation='linear'))\n",
    "    # Compile model\n",
    "    model.compile(loss='mean_squared_error', optimizer='adam', metrics=['accuracy'])\n",
    "    return model"
   ]
  },
  {
   "cell_type": "code",
   "execution_count": null,
   "metadata": {},
   "outputs": [
    {
     "name": "stdout",
     "output_type": "stream",
     "text": [
      "trip_hour_of_day\n",
      "Starting fit...\n"
     ]
    }
   ],
   "source": [
    "#Continuous variables\n",
    "from sklearn import preprocessing\n",
    "from tensorflow.keras.wrappers.scikit_learn import KerasRegressor\n",
    "from sklearn.pipeline import Pipeline\n",
    "from sklearn.preprocessing import StandardScaler, Normalizer\n",
    "from sklearn.pipeline import make_pipeline\n",
    "\n",
    "features = set(df.columns)\n",
    "for target_feature in continuous:\n",
    "    print(target_feature)\n",
    "    input_features = features - {target_feature}\n",
    "    input_data = df[input_features]\n",
    "    target = df[target_feature]\n",
    "    ron_gauss_data, private_target = supervised_rongauss(df=df, dim=10, target=target_feature)\n",
    "    \n",
    "    X_train, X_test, y_train, y_test = train_test_split(ron_gauss_data, private_target, random_state=42)\n",
    "\n",
    "    pipe = make_pipeline(StandardScaler(), Normalizer(), KerasRegressor(build_fn=baseline_model, epochs=150, batch_size=10, verbose=0))\n",
    "\n",
    "    print(\"Starting fit...\")\n",
    "    pipe.fit(X_train, y_train)\n",
    "\n",
    "    start_time = time.time()\n",
    "    accuracy = pipe.score(X_test, y_test)\n",
    "\n",
    "    accuracy_dataframe[target_feature] = accuracy\n",
    "    print(\"(time={}s) Regression + RON_Gauss, target_feature: {}, prediction_avg_accuracy: {}\".format(time.time() - start_time, target_feature, accuracy))\n"
   ]
  },
  {
   "cell_type": "code",
   "execution_count": null,
   "metadata": {},
   "outputs": [],
   "source": []
  }
 ],
 "metadata": {
  "kernelspec": {
   "display_name": "Python 3",
   "language": "python",
   "name": "python3"
  },
  "language_info": {
   "codemirror_mode": {
    "name": "ipython",
    "version": 3
   },
   "file_extension": ".py",
   "mimetype": "text/x-python",
   "name": "python",
   "nbconvert_exporter": "python",
   "pygments_lexer": "ipython3",
   "version": "3.8.5"
  }
 },
 "nbformat": 4,
 "nbformat_minor": 4
}
