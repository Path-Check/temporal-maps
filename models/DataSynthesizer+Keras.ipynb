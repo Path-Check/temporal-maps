{
 "cells": [
  {
   "cell_type": "code",
   "execution_count": 30,
   "metadata": {},
   "outputs": [],
   "source": [
    "import os\n",
    "os.environ[\"CUDA_DEVICE_ORDER\"]= \"PCI_BUS_ID\"   \n",
    "os.environ[\"CUDA_VISIBLE_DEVICES\"]= \"2\""
   ]
  },
  {
   "cell_type": "code",
   "execution_count": 31,
   "metadata": {},
   "outputs": [],
   "source": [
    "import pandas as pd\n",
    "import numpy as np\n",
    "import scipy.misc\n",
    "from sklearn.model_selection import train_test_split\n",
    "import seaborn as sns\n",
    "import time\n",
    "import tensorflow as tf\n",
    "import ron_gauss"
   ]
  },
  {
   "cell_type": "code",
   "execution_count": 32,
   "metadata": {},
   "outputs": [],
   "source": [
    "df = pd.read_csv('synthetic.csv')"
   ]
  },
  {
   "cell_type": "code",
   "execution_count": 33,
   "metadata": {},
   "outputs": [
    {
     "data": {
      "text/plain": [
       "Index(['Unnamed: 0', 'shift', 'pickup_community_area',\n",
       "       'dropoff_community_area', 'payment_type', 'trip_day_of_week',\n",
       "       'trip_hour_of_day', 'fare', 'tips', 'trip_total', 'trip_seconds',\n",
       "       'trip_miles'],\n",
       "      dtype='object')"
      ]
     },
     "execution_count": 33,
     "metadata": {},
     "output_type": "execute_result"
    }
   ],
   "source": [
    "df.columns"
   ]
  },
  {
   "cell_type": "code",
   "execution_count": 34,
   "metadata": {},
   "outputs": [
    {
     "name": "stdout",
     "output_type": "stream",
     "text": [
      "['trip_hour_of_day', 'fare', 'tips', 'trip_total', 'trip_seconds', 'trip_miles']\n"
     ]
    }
   ],
   "source": [
    "drop = ['taxi_id', 'company_id', 'Unnamed: 0']\n",
    "categorical = [\"trip_day_of_week\", \"payment_type\", \"dropoff_community_area\", \"pickup_community_area\", \"shift\"]\n",
    "continuous = [x for x in df.columns if x not in (categorical + drop)]\n",
    "print(continuous)"
   ]
  },
  {
   "cell_type": "code",
   "execution_count": 35,
   "metadata": {},
   "outputs": [],
   "source": [
    "def warn(*args, **kwargs):\n",
    "    pass\n",
    "import warnings\n",
    "warnings.warn = warn"
   ]
  },
  {
   "cell_type": "code",
   "execution_count": 36,
   "metadata": {},
   "outputs": [],
   "source": [
    "from sklearn.metrics import mean_squared_error\n",
    "from keras.models import Sequential\n",
    "from keras.layers import Dense\n",
    "from keras.layers import Dropout\n",
    "\n",
    "def baseline_model():\n",
    "    model = Sequential()\n",
    "    model.add(Dense(33, input_dim=11, activation='relu'))\n",
    "    model.add(Dense(33, activation='relu'))\n",
    "    model.add(Dense(1, activation='linear'))\n",
    "    # Compile model\n",
    "    model.compile(loss='mean_squared_error', optimizer='adam', metrics=['accuracy'])\n",
    "    return model"
   ]
  },
  {
   "cell_type": "code",
   "execution_count": 37,
   "metadata": {},
   "outputs": [
    {
     "name": "stdout",
     "output_type": "stream",
     "text": [
      "trip_hour_of_day\n",
      "Epoch 1/10\n",
      "601773/601773 [==============================] - 779s 1ms/step - loss: 48.2772 - accuracy: 0.0417\n",
      "Epoch 2/10\n",
      "601773/601773 [==============================] - 779s 1ms/step - loss: 47.9409 - accuracy: 0.0417\n",
      "Epoch 3/10\n",
      "601773/601773 [==============================] - 779s 1ms/step - loss: 47.9276 - accuracy: 0.0417\n",
      "Epoch 4/10\n",
      "601773/601773 [==============================] - 779s 1ms/step - loss: 47.9190 - accuracy: 0.0417\n",
      "Epoch 5/10\n",
      "601773/601773 [==============================] - 779s 1ms/step - loss: 47.9012 - accuracy: 0.0417\n",
      "Epoch 6/10\n",
      "601773/601773 [==============================] - 794s 1ms/step - loss: 47.9231 - accuracy: 0.0417\n",
      "Epoch 7/10\n",
      "601773/601773 [==============================] - 841s 1ms/step - loss: 47.9147 - accuracy: 0.0416\n",
      "Epoch 8/10\n",
      "601773/601773 [==============================] - 844s 1ms/step - loss: 47.9171 - accuracy: 0.0417\n",
      "Epoch 9/10\n",
      "601773/601773 [==============================] - 843s 1ms/step - loss: 47.8902 - accuracy: 0.0416\n",
      "Epoch 10/10\n",
      "601773/601773 [==============================] - 840s 1ms/step - loss: 47.9087 - accuracy: 0.0416\n",
      "200591/200591 [==============================] - 118s 587us/step\n"
     ]
    },
    {
     "ename": "NameError",
     "evalue": "name 'r2_score' is not defined",
     "output_type": "error",
     "traceback": [
      "\u001b[0;31m---------------------------------------------------------------------------\u001b[0m",
      "\u001b[0;31mNameError\u001b[0m                                 Traceback (most recent call last)",
      "\u001b[0;32m<ipython-input-37-0ae100d19b25>\u001b[0m in \u001b[0;36m<module>\u001b[0;34m\u001b[0m\n\u001b[1;32m     21\u001b[0m     \u001b[0my_pred\u001b[0m \u001b[0;34m=\u001b[0m \u001b[0mpipe\u001b[0m\u001b[0;34m.\u001b[0m\u001b[0mpredict\u001b[0m\u001b[0;34m(\u001b[0m\u001b[0mX_test\u001b[0m\u001b[0;34m)\u001b[0m\u001b[0;34m\u001b[0m\u001b[0;34m\u001b[0m\u001b[0m\n\u001b[1;32m     22\u001b[0m \u001b[0;34m\u001b[0m\u001b[0m\n\u001b[0;32m---> 23\u001b[0;31m     \u001b[0mr_squared\u001b[0m \u001b[0;34m=\u001b[0m \u001b[0mr2_score\u001b[0m\u001b[0;34m(\u001b[0m\u001b[0my_test\u001b[0m\u001b[0;34m,\u001b[0m \u001b[0my_pred\u001b[0m\u001b[0;34m)\u001b[0m\u001b[0;34m\u001b[0m\u001b[0;34m\u001b[0m\u001b[0m\n\u001b[0m\u001b[1;32m     24\u001b[0m     \u001b[0mmse\u001b[0m \u001b[0;34m=\u001b[0m \u001b[0mmean_squared_error\u001b[0m\u001b[0;34m(\u001b[0m\u001b[0my_test\u001b[0m\u001b[0;34m,\u001b[0m \u001b[0my_pred\u001b[0m\u001b[0;34m)\u001b[0m\u001b[0;34m\u001b[0m\u001b[0;34m\u001b[0m\u001b[0m\n\u001b[1;32m     25\u001b[0m \u001b[0;34m\u001b[0m\u001b[0m\n",
      "\u001b[0;31mNameError\u001b[0m: name 'r2_score' is not defined"
     ]
    }
   ],
   "source": [
    "#Continuous variables\n",
    "from sklearn import preprocessing\n",
    "from tensorflow.keras.wrappers.scikit_learn import KerasRegressor\n",
    "from sklearn.pipeline import Pipeline\n",
    "from sklearn.preprocessing import StandardScaler, Normalizer\n",
    "from sklearn.pipeline import make_pipeline\n",
    "\n",
    "features = set(df.columns)\n",
    "for target_feature in continuous:\n",
    "    print(target_feature)\n",
    "    input_features = features - {target_feature}\n",
    "    input_data = df[input_features]\n",
    "    private_target = df[target_feature]\n",
    "\n",
    "    X_train, X_test, y_train, y_test = train_test_split(input_data, private_target, random_state=42)      \n",
    "\n",
    "    start_time = time.time()\n",
    "    \n",
    "    pipe = make_pipeline(StandardScaler(), KerasRegressor(build_fn=baseline_model, epochs=10, batch_size=20, verbose=1))\n",
    "    pipe.fit(X_train, y_train)\n",
    "    y_pred = pipe.predict(X_test)\n",
    "\n",
    "    r_squared = r2_score(y_test, y_pred)\n",
    "    mse = mean_squared_error(y_test, y_pred)\n",
    "\n",
    "    print(\"(time={}s) Regression + RON_Gauss, target_feature: {}, r^2: {}, mse: {}\".format(time.time() - start_time, target_feature, r_squared, mse))\n",
    "\n"
   ]
  }
 ],
 "metadata": {
  "kernelspec": {
   "display_name": "Python 3",
   "language": "python",
   "name": "python3"
  },
  "language_info": {
   "codemirror_mode": {
    "name": "ipython",
    "version": 3
   },
   "file_extension": ".py",
   "mimetype": "text/x-python",
   "name": "python",
   "nbconvert_exporter": "python",
   "pygments_lexer": "ipython3",
   "version": "3.8.5"
  }
 },
 "nbformat": 4,
 "nbformat_minor": 4
}
